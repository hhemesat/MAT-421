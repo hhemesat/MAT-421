{
  "nbformat": 4,
  "nbformat_minor": 0,
  "metadata": {
    "colab": {
      "name": "ModuleA.ipynb",
      "provenance": [],
      "collapsed_sections": [],
      "authorship_tag": "ABX9TyM+kslex6zUcHr75djuNXMK",
      "include_colab_link": true
    },
    "kernelspec": {
      "name": "python3",
      "display_name": "Python 3"
    },
    "language_info": {
      "name": "python"
    }
  },
  "cells": [
    {
      "cell_type": "markdown",
      "metadata": {
        "id": "view-in-github",
        "colab_type": "text"
      },
      "source": [
        "<a href=\"https://colab.research.google.com/github/hhemesat/MAT-421/blob/main/ModuleA.ipynb\" target=\"_parent\"><img src=\"https://colab.research.google.com/assets/colab-badge.svg\" alt=\"Open In Colab\"/></a>"
      ]
    },
    {
      "cell_type": "markdown",
      "source": [
        "# 9.1 : Base-N and Binary\n",
        "\n",
        "---\n",
        "\n"
      ],
      "metadata": {
        "id": "t_vcfFQL8gED"
      }
    },
    {
      "cell_type": "code",
      "execution_count": 10,
      "metadata": {
        "id": "SvZ4_YjhEByo",
        "colab": {
          "base_uri": "https://localhost:8080/"
        },
        "outputId": "0084ca43-c062-48ff-85b0-e48112c24d0e"
      },
      "outputs": [
        {
          "output_type": "stream",
          "name": "stdout",
          "text": [
            "1751\n"
          ]
        }
      ],
      "source": [
        "#First, we generate a random number to practice writing binary (base 2)\n",
        "import random\n",
        "list = range(1000,10000)\n",
        "x = random.choice(list)\n",
        "print(x)"
      ]
    },
    {
      "cell_type": "code",
      "source": [
        "#We generate another random number\n",
        "import random\n",
        "list = range(1000,10000)\n",
        "y = random.choice(list)\n",
        "print(y)"
      ],
      "metadata": {
        "colab": {
          "base_uri": "https://localhost:8080/"
        },
        "id": "eeSUlzmKAbvD",
        "outputId": "1b8b0f44-b850-4543-8d43-2046c7a8446e"
      },
      "execution_count": 11,
      "outputs": [
        {
          "output_type": "stream",
          "name": "stdout",
          "text": [
            "2460\n"
          ]
        }
      ]
    },
    {
      "cell_type": "markdown",
      "source": [
        "x is 1751 (base 10) = (1 x 2^10) + (1 x 2^9) + (0 x 2^8) + (1 x 2^7) + (1 x 2^6) + (0 x 2^5) + (1 x 2^4) +(0 x 2^3) + (1 x 2^2) + (1 x 2^1) + (1 x 2^0)\n",
        "= 11011010111 (base 2) "
      ],
      "metadata": {
        "id": "JZT4F7t6gDG1"
      }
    },
    {
      "cell_type": "markdown",
      "source": [
        "y is 2460 (base 10) = (1 x 2^11) +  (0 x 2^10) + (0 x 2^9) + (1 x 2^8) + ( 1 x 2^7) + (0 x 2^6) + (0 x 2^5) + (1 x 2^4) + (1 x 2^3) + (1 x 2^2) + (0 x 2^1) + (0 x 2^0)\n",
        "= 100110011100 (base 2)"
      ],
      "metadata": {
        "id": "Im4MVnaeAjoF"
      }
    },
    {
      "cell_type": "markdown",
      "source": [
        "11011010111 + 100110011100 = 1000001110011 (base 2) = 2^12 + 2^6 + 2^5 + 2^4 + 2^1 + 2^0 \n",
        "= 4211 (base 10)"
      ],
      "metadata": {
        "id": "PQnYtBFPDX7G"
      }
    },
    {
      "cell_type": "code",
      "source": [
        "#To verify our above result:\n",
        "print(x+y)"
      ],
      "metadata": {
        "colab": {
          "base_uri": "https://localhost:8080/"
        },
        "id": "EzXphw4UWozy",
        "outputId": "6159e337-abe7-4c2a-e6cd-f8a4629537ac"
      },
      "execution_count": 13,
      "outputs": [
        {
          "output_type": "stream",
          "name": "stdout",
          "text": [
            "4211\n"
          ]
        }
      ]
    },
    {
      "cell_type": "markdown",
      "source": [
        "# 9.2: Floating Point Numbers\n",
        "\n",
        "---\n",
        "\n"
      ],
      "metadata": {
        "id": "d4lfw3kV808k"
      }
    },
    {
      "cell_type": "code",
      "source": [
        "#Generate a random number\n",
        "list2 = range(1,100)\n",
        "z = random.choice(list2)\n",
        "print(z)"
      ],
      "metadata": {
        "colab": {
          "base_uri": "https://localhost:8080/"
        },
        "id": "11F5wzCVaLlN",
        "outputId": "19480376-c8f3-484d-9741-908e4d6a4625"
      },
      "execution_count": 20,
      "outputs": [
        {
          "output_type": "stream",
          "name": "stdout",
          "text": [
            "20\n"
          ]
        }
      ]
    },
    {
      "cell_type": "markdown",
      "source": [
        "z = 20 (base 10)\n",
        "\n",
        "Now we convert this to IEEE754, and then find the largest number smaller than 20 and the smallest number larger than 20 \n",
        "\n",
        "Since it is positive, the sign indicator is 0.\n",
        "The largest power of 2 smaller than 20 is 4, since 2^4 is 16. Thus the characteristic is 4 + 1023 = 1027 (base 10) = 2^10 + 2^1 + 2^0 = 10000000011 (base 2)\n",
        "\n",
        "The fraction is 20/16 - 1 = 0.25 = 1 * 1/2^2 = 0100000000000000000000000000000000000000000000000000\n",
        "\n",
        "Thus 20 (base 10) = 0 10000000011 0100000000000000000000000000000000000000000000000000 (IEEE754)\n",
        "\n",
        "Then the next smallest number is 0 10000000011 001111111111111111111111111111111111111111111111111\n",
        "\n",
        "The next largest is 0 10000000011 0100000000000000000000000000000000000000000000000001 "
      ],
      "metadata": {
        "id": "AsOslTurasBv"
      }
    },
    {
      "cell_type": "markdown",
      "source": [
        "# 9.3: Round-off Errors\n",
        "\n",
        "---\n",
        "\n"
      ],
      "metadata": {
        "id": "lL4JVxQi9DSI"
      }
    },
    {
      "cell_type": "code",
      "source": [
        "#We have python print out the answer to an equation involving floating-point numbers\n",
        "5.7 - 3.213"
      ],
      "metadata": {
        "colab": {
          "base_uri": "https://localhost:8080/"
        },
        "id": "z6n0mpEXGByY",
        "outputId": "966b9737-9c54-49fb-bf3f-5fe61176ad77"
      },
      "execution_count": 14,
      "outputs": [
        {
          "output_type": "execute_result",
          "data": {
            "text/plain": [
              "2.487"
            ]
          },
          "metadata": {},
          "execution_count": 14
        }
      ]
    },
    {
      "cell_type": "code",
      "source": [
        "#However, this statement comes out false\n",
        "5.7 - 3.2 == 2.487"
      ],
      "metadata": {
        "colab": {
          "base_uri": "https://localhost:8080/"
        },
        "id": "2mLrz3uIGMen",
        "outputId": "2826bb3a-7982-4c6d-f500-291ac2248a8c"
      },
      "execution_count": 15,
      "outputs": [
        {
          "output_type": "execute_result",
          "data": {
            "text/plain": [
              "False"
            ]
          },
          "metadata": {},
          "execution_count": 15
        }
      ]
    },
    {
      "cell_type": "code",
      "source": [
        "#When using the round function, then the statement becomes true\n",
        "round(5.7 - 3.213, 5) == round(2.487, 5)"
      ],
      "metadata": {
        "colab": {
          "base_uri": "https://localhost:8080/"
        },
        "id": "aZKY61zMGPUb",
        "outputId": "b5bb6000-d885-4ac2-ab71-6b6ae5cbafba"
      },
      "execution_count": 16,
      "outputs": [
        {
          "output_type": "execute_result",
          "data": {
            "text/plain": [
              "True"
            ]
          },
          "metadata": {},
          "execution_count": 16
        }
      ]
    }
  ]
}