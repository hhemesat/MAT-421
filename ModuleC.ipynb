{
  "nbformat": 4,
  "nbformat_minor": 0,
  "metadata": {
    "colab": {
      "name": "ModuleC.ipynb",
      "provenance": [],
      "collapsed_sections": [],
      "authorship_tag": "ABX9TyNOO1gMtjYYNd9PaFR0+Ga/",
      "include_colab_link": true
    },
    "kernelspec": {
      "name": "python3",
      "display_name": "Python 3"
    },
    "language_info": {
      "name": "python"
    }
  },
  "cells": [
    {
      "cell_type": "markdown",
      "metadata": {
        "id": "view-in-github",
        "colab_type": "text"
      },
      "source": [
        "<a href=\"https://colab.research.google.com/github/hhemesat/MAT-421/blob/main/ModuleC.ipynb\" target=\"_parent\"><img src=\"https://colab.research.google.com/assets/colab-badge.svg\" alt=\"Open In Colab\"/></a>"
      ]
    },
    {
      "cell_type": "markdown",
      "source": [
        "#Tolerance\n",
        "---\n",
        "\n"
      ],
      "metadata": {
        "id": "hJ3Tq2jDErke"
      }
    },
    {
      "cell_type": "markdown",
      "source": [
        "Using fsolve function from scipy to compute the root of f(x)=cos(x)+x near 3. Verify that the solution is a root."
      ],
      "metadata": {
        "id": "r-sRjMUDFMZS"
      }
    },
    {
      "cell_type": "code",
      "execution_count": null,
      "metadata": {
        "colab": {
          "base_uri": "https://localhost:8080/"
        },
        "id": "x-oilze8EosB",
        "outputId": "3714c9be-5457-424d-fdd5-49a9253fd22e"
      },
      "outputs": [
        {
          "output_type": "stream",
          "name": "stdout",
          "text": [
            "r = [-0.73908513]\n",
            "result= [2.77555756e-15]\n",
            "The solution converged.\n"
          ]
        }
      ],
      "source": [
        "import numpy as np\n",
        "from scipy import optimize\n",
        "f = lambda x: np.cos(x) + x\n",
        "\n",
        "r, infodict, ier, mesg = optimize.fsolve(f, 3, full_output=True)\n",
        "print(\"r =\", r)\n",
        "\n",
        "result = f(r)\n",
        "print(\"result=\", result)\n",
        "\n",
        "print(mesg)"
      ]
    },
    {
      "cell_type": "markdown",
      "source": [
        "Since the solution converged, this means that the solution has an error smaller than the tolerance"
      ],
      "metadata": {
        "id": "5nyiEA9Vawhh"
      }
    },
    {
      "cell_type": "markdown",
      "source": [
        "#Bisection Method\n",
        "\n",
        "---\n",
        "\n"
      ],
      "metadata": {
        "id": "66TZ5u_tE0cd"
      }
    },
    {
      "cell_type": "markdown",
      "source": [
        "The below function will find the midpoint iteratively to get the root of a function"
      ],
      "metadata": {
        "id": "LCGWXfNKGLzC"
      }
    },
    {
      "cell_type": "code",
      "source": [
        "import numpy as np\n",
        "\n",
        "def my_bisection(f, a, b, tol): \n",
        "    \n",
        "    # check if a and b bound a root\n",
        "    if np.sign(f(a)) == np.sign(f(b)):\n",
        "        raise Exception(\n",
        "         \"The scalars a and b do not bound a root\")\n",
        "        \n",
        "    # get midpoint\n",
        "    m = (a + b)/2\n",
        "    \n",
        "    if np.abs(f(m)) < tol:\n",
        "        # stopping condition, report m as root\n",
        "        return m\n",
        "    elif np.sign(f(a)) == np.sign(f(m)):\n",
        "        # case where m is an improvement on a. \n",
        "        # Make recursive call with a = m\n",
        "        return my_bisection(f, m, b, tol)\n",
        "    elif np.sign(f(b)) == np.sign(f(m)):\n",
        "        # case where m is an improvement on b. \n",
        "        # Make recursive call with b = m\n",
        "        return my_bisection(f, a, m, tol)"
      ],
      "metadata": {
        "id": "iHe2ATEmGK0-"
      },
      "execution_count": 1,
      "outputs": []
    },
    {
      "cell_type": "markdown",
      "source": [
        "Now we use the baove function to find the root of the function f(x) = x^3 -3"
      ],
      "metadata": {
        "id": "pz8I7QBe-Kvz"
      }
    },
    {
      "cell_type": "code",
      "source": [
        "f = lambda x: x**3 - 3\n",
        "\n",
        "r1 = my_bisection(f, 0, 2, 0.1)\n",
        "print(\"r1 =\", r1)\n",
        "r01 = my_bisection(f, 0, 2, 0.01)\n",
        "print(\"r01 =\", r01)\n",
        "\n",
        "print(\"f(r1) =\", f(r1))\n",
        "print(\"f(r01) =\", f(r01))"
      ],
      "metadata": {
        "colab": {
          "base_uri": "https://localhost:8080/"
        },
        "id": "WlYlEkWF8Quy",
        "outputId": "c6eb3c6b-ef7a-47d8-a726-4d677f7df5b2"
      },
      "execution_count": 7,
      "outputs": [
        {
          "output_type": "stream",
          "name": "stdout",
          "text": [
            "r1 = 1.4375\n",
            "r01 = 1.44140625\n",
            "f(r1) = -0.029541015625\n",
            "f(r01) = -0.005259454250335693\n"
          ]
        }
      ]
    },
    {
      "cell_type": "markdown",
      "source": [
        "We try again using a = 2 and b = 4"
      ],
      "metadata": {
        "id": "cdvPS5h1_9iI"
      }
    },
    {
      "cell_type": "code",
      "source": [
        "my_bisection(f, 2, 4, 0.1)\n",
        "my_bisection(f, 2, 4, 0.01)"
      ],
      "metadata": {
        "colab": {
          "base_uri": "https://localhost:8080/",
          "height": 305
        },
        "id": "PY0m1He_AIdv",
        "outputId": "ee357aa5-462f-49e8-a041-ec8e01362ecf"
      },
      "execution_count": 8,
      "outputs": [
        {
          "output_type": "error",
          "ename": "Exception",
          "evalue": "ignored",
          "traceback": [
            "\u001b[0;31m---------------------------------------------------------------------------\u001b[0m",
            "\u001b[0;31mException\u001b[0m                                 Traceback (most recent call last)",
            "\u001b[0;32m<ipython-input-8-e8611ee28417>\u001b[0m in \u001b[0;36m<module>\u001b[0;34m()\u001b[0m\n\u001b[0;32m----> 1\u001b[0;31m \u001b[0mmy_bisection\u001b[0m\u001b[0;34m(\u001b[0m\u001b[0mf\u001b[0m\u001b[0;34m,\u001b[0m \u001b[0;36m2\u001b[0m\u001b[0;34m,\u001b[0m \u001b[0;36m4\u001b[0m\u001b[0;34m,\u001b[0m \u001b[0;36m0.1\u001b[0m\u001b[0;34m)\u001b[0m\u001b[0;34m\u001b[0m\u001b[0;34m\u001b[0m\u001b[0m\n\u001b[0m\u001b[1;32m      2\u001b[0m \u001b[0mmy_bisection\u001b[0m\u001b[0;34m(\u001b[0m\u001b[0mf\u001b[0m\u001b[0;34m,\u001b[0m \u001b[0;36m2\u001b[0m\u001b[0;34m,\u001b[0m \u001b[0;36m4\u001b[0m\u001b[0;34m,\u001b[0m \u001b[0;36m0.01\u001b[0m\u001b[0;34m)\u001b[0m\u001b[0;34m\u001b[0m\u001b[0;34m\u001b[0m\u001b[0m\n",
            "\u001b[0;32m<ipython-input-1-8c58b8471a25>\u001b[0m in \u001b[0;36mmy_bisection\u001b[0;34m(f, a, b, tol)\u001b[0m\n\u001b[1;32m      6\u001b[0m     \u001b[0;32mif\u001b[0m \u001b[0mnp\u001b[0m\u001b[0;34m.\u001b[0m\u001b[0msign\u001b[0m\u001b[0;34m(\u001b[0m\u001b[0mf\u001b[0m\u001b[0;34m(\u001b[0m\u001b[0ma\u001b[0m\u001b[0;34m)\u001b[0m\u001b[0;34m)\u001b[0m \u001b[0;34m==\u001b[0m \u001b[0mnp\u001b[0m\u001b[0;34m.\u001b[0m\u001b[0msign\u001b[0m\u001b[0;34m(\u001b[0m\u001b[0mf\u001b[0m\u001b[0;34m(\u001b[0m\u001b[0mb\u001b[0m\u001b[0;34m)\u001b[0m\u001b[0;34m)\u001b[0m\u001b[0;34m:\u001b[0m\u001b[0;34m\u001b[0m\u001b[0;34m\u001b[0m\u001b[0m\n\u001b[1;32m      7\u001b[0m         raise Exception(\n\u001b[0;32m----> 8\u001b[0;31m          \"The scalars a and b do not bound a root\")\n\u001b[0m\u001b[1;32m      9\u001b[0m \u001b[0;34m\u001b[0m\u001b[0m\n\u001b[1;32m     10\u001b[0m     \u001b[0;31m# get midpoint\u001b[0m\u001b[0;34m\u001b[0m\u001b[0;34m\u001b[0m\u001b[0;34m\u001b[0m\u001b[0m\n",
            "\u001b[0;31mException\u001b[0m: The scalars a and b do not bound a root"
          ]
        }
      ]
    },
    {
      "cell_type": "markdown",
      "source": [
        "We see that we get an error that the scalars do not bound a root"
      ],
      "metadata": {
        "id": "qvfEitk8AO7G"
      }
    },
    {
      "cell_type": "markdown",
      "source": [
        "#Newton-Raphson Method\n",
        "\n",
        "---\n",
        "\n"
      ],
      "metadata": {
        "id": "vVVQwWZwE5Or"
      }
    },
    {
      "cell_type": "markdown",
      "source": [
        "Find the root of the function f(x) = x^3 -3, so f'(x) = 3x^2. Start at x0 = 1.4. "
      ],
      "metadata": {
        "id": "R8LW7gIqJ9OX"
      }
    },
    {
      "cell_type": "code",
      "source": [
        "import numpy as np\n",
        "\n",
        "f = lambda x: x**3 - 3\n",
        "f_prime = lambda x: 3*x**2\n",
        "newton_raphson = 1.4 - (f(1.4))/(f_prime(1.4))\n",
        "\n",
        "print(\"newton_raphson =\", newton_raphson)"
      ],
      "metadata": {
        "colab": {
          "base_uri": "https://localhost:8080/"
        },
        "id": "PsfKkj3tAZ6E",
        "outputId": "7054375c-3a6e-432f-9631-ce899b764c96"
      },
      "execution_count": 18,
      "outputs": [
        {
          "output_type": "stream",
          "name": "stdout",
          "text": [
            "newton_raphson = 1.4435374149659865\n"
          ]
        }
      ]
    },
    {
      "cell_type": "markdown",
      "source": [
        "Now we write a function to estimate the root of the the function"
      ],
      "metadata": {
        "id": "RcSRqRXPA_cV"
      }
    },
    {
      "cell_type": "code",
      "source": [
        "def my_newton(f, df, x0, tol):\n",
        "    if abs(f(x0)) < tol:\n",
        "        return x0\n",
        "    else:\n",
        "        return my_newton(f, df, x0 - f(x0)/df(x0), tol)"
      ],
      "metadata": {
        "id": "p6E3weXiBBxV"
      },
      "execution_count": 12,
      "outputs": []
    },
    {
      "cell_type": "markdown",
      "source": [
        "We now use this function to estimate the root of f(x) from the previous question. Tolerance of 1E-6 and use a staring point of 1.4"
      ],
      "metadata": {
        "id": "8ijr2urcKtU-"
      }
    },
    {
      "cell_type": "code",
      "source": [
        "estimate = my_newton(f, f_prime, 1.4, 1e-6)\n",
        "print(\"estimate =\", estimate)"
      ],
      "metadata": {
        "colab": {
          "base_uri": "https://localhost:8080/"
        },
        "id": "MWXN-5x8BDU6",
        "outputId": "f076cac3-d3e2-4ec3-b00f-f443729ecd18"
      },
      "execution_count": 20,
      "outputs": [
        {
          "output_type": "stream",
          "name": "stdout",
          "text": [
            "estimate = 1.4422495703083231\n"
          ]
        }
      ]
    },
    {
      "cell_type": "markdown",
      "source": [
        "Now we calculate a single Newton step to get an approximation of the root of f(x) = x^3 - 2x^2 + 4 x + 1 with an initial guess x0 = 0.5 "
      ],
      "metadata": {
        "id": "35L_B2NqLAKR"
      }
    },
    {
      "cell_type": "code",
      "source": [
        "x0 = 0.5\n",
        "x1 = x0-(x0**3+2*x0**2-4*x0-1)/(3*x0**2-4*x0+4)\n",
        "print(\"x1 =\", x1)"
      ],
      "metadata": {
        "colab": {
          "base_uri": "https://localhost:8080/"
        },
        "id": "BUWk4Y3RBQI_",
        "outputId": "2fa315fe-683c-4fe0-99b9-47ad23b36834"
      },
      "execution_count": 22,
      "outputs": [
        {
          "output_type": "stream",
          "name": "stdout",
          "text": [
            "x1 = 1.3636363636363638\n"
          ]
        }
      ]
    },
    {
      "cell_type": "markdown",
      "source": [
        "#Root Finding in Python\n",
        "\n",
        "---\n",
        "\n"
      ],
      "metadata": {
        "id": "Ac_ZZ6y6E-a9"
      }
    },
    {
      "cell_type": "markdown",
      "source": [
        "We use a f_solve to find the root of f(x) = 2x^3 + 10x^2 - 3x - 5 "
      ],
      "metadata": {
        "id": "IGaxqXpzBVAV"
      }
    },
    {
      "cell_type": "code",
      "source": [
        "from scipy.optimize import fsolve\n",
        "f = lambda x: 2*x**3+10*x**2-3*x-5\n",
        "fsolve(f, [2, 80])"
      ],
      "metadata": {
        "colab": {
          "base_uri": "https://localhost:8080/"
        },
        "id": "Ak-6lIzgBgcL",
        "outputId": "0a870bad-a7b8-474e-d9ce-730e1c7ca461"
      },
      "execution_count": 17,
      "outputs": [
        {
          "output_type": "execute_result",
          "data": {
            "text/plain": [
              "array([0.79857303, 0.79857303])"
            ]
          },
          "metadata": {},
          "execution_count": 17
        }
      ]
    },
    {
      "cell_type": "markdown",
      "source": [
        "There us one root, which is 0.799 "
      ],
      "metadata": {
        "id": "RhI_sHKzBzP3"
      }
    }
  ]
}