{
  "nbformat": 4,
  "nbformat_minor": 0,
  "metadata": {
    "colab": {
      "name": "ModuleD.ipynb",
      "provenance": [],
      "collapsed_sections": [],
      "authorship_tag": "ABX9TyOFdSM5w8zIwlPDw+98OqQ+",
      "include_colab_link": true
    },
    "kernelspec": {
      "name": "python3",
      "display_name": "Python 3"
    },
    "language_info": {
      "name": "python"
    }
  },
  "cells": [
    {
      "cell_type": "markdown",
      "metadata": {
        "id": "view-in-github",
        "colab_type": "text"
      },
      "source": [
        "<a href=\"https://colab.research.google.com/github/hhemesat/MAT-421/blob/main/ModuleD.ipynb\" target=\"_parent\"><img src=\"https://colab.research.google.com/assets/colab-badge.svg\" alt=\"Open In Colab\"/></a>"
      ]
    },
    {
      "cell_type": "markdown",
      "source": [
        "We first create two random vectors "
      ],
      "metadata": {
        "id": "WvtkuKFJPjpi"
      }
    },
    {
      "cell_type": "code",
      "source": [
        "import random\n",
        "x = random.sample(range(1,15),5)\n",
        "y = random.sample(range(1,15),4)\n",
        "print(x)\n",
        "print(y)"
      ],
      "metadata": {
        "colab": {
          "base_uri": "https://localhost:8080/"
        },
        "id": "7Iw7ArRaTqmw",
        "outputId": "7199e731-caa1-4c57-8bc2-41cc05dc400c"
      },
      "execution_count": 7,
      "outputs": [
        {
          "output_type": "stream",
          "name": "stdout",
          "text": [
            "[7, 3, 12, 9, 2]\n",
            "[9, 5, 12, 11]\n"
          ]
        }
      ]
    },
    {
      "cell_type": "code",
      "source": [
        "import numpy as np\n",
        "row = np.array([[7,3,12,9,2]])\n",
        "column = np.array([[9], \n",
        "                          [5], \n",
        "                          [12], \n",
        "                          [11]])\n",
        "print(row.shape)\n",
        "print(column.shape)"
      ],
      "metadata": {
        "colab": {
          "base_uri": "https://localhost:8080/"
        },
        "id": "dMCGOZp1PyVe",
        "outputId": "5ff7e561-a4d8-4bc0-fc1e-de799bd6973d"
      },
      "execution_count": 8,
      "outputs": [
        {
          "output_type": "stream",
          "name": "stdout",
          "text": [
            "(1, 5)\n",
            "(4, 1)\n"
          ]
        }
      ]
    },
    {
      "cell_type": "markdown",
      "source": [
        "We find the norm ||v|| = sqrt(∑(vi)^2)"
      ],
      "metadata": {
        "id": "hm1eyXUfZBUE"
      }
    },
    {
      "cell_type": "code",
      "source": [
        "from numpy.linalg import norm\n",
        "v1 = row.T\n",
        "print(v1)\n",
        "norm = norm(v1, np.inf)\n",
        "print(norm)"
      ],
      "metadata": {
        "colab": {
          "base_uri": "https://localhost:8080/"
        },
        "id": "TKImYXIHYVlm",
        "outputId": "d340b98a-1762-422d-cb34-abbffc463b57"
      },
      "execution_count": 14,
      "outputs": [
        {
          "output_type": "stream",
          "name": "stdout",
          "text": [
            "[[ 7]\n",
            " [ 3]\n",
            " [12]\n",
            " [ 9]\n",
            " [ 2]]\n",
            "12.0\n"
          ]
        }
      ]
    },
    {
      "cell_type": "markdown",
      "source": [
        "We plot x = [[2],[5]] and vector b = Ax, where A = [[1,1],[6,4]] to demonstrate eigenvectors"
      ],
      "metadata": {
        "id": "1vouCYqKbAZ3"
      }
    },
    {
      "cell_type": "code",
      "source": [
        "import numpy as np\n",
        "import matplotlib.pyplot as plt\n",
        "plt.style.use('seaborn-poster')\n",
        "%matplotlib inline\n",
        "def plot_vect(x, b, xlim, ylim):\n",
        "    plt.figure(figsize = (10, 6))\n",
        "    plt.quiver(0,0,x[0],x[1],\\\n",
        "        color='k',angles='xy',\\\n",
        "        scale_units='xy',scale=1,\\\n",
        "        label='Original vector')\n",
        "    plt.quiver(0,0,b[0],b[1],\\\n",
        "        color='g',angles='xy',\\\n",
        "        scale_units='xy',scale=1,\\\n",
        "        label ='Transformed vector')\n",
        "    plt.xlim(xlim)\n",
        "    plt.ylim(ylim)\n",
        "    plt.xlabel('X')\n",
        "    plt.ylabel('Y')\n",
        "    plt.legend()\n",
        "    plt.show()\n",
        "A = np.array([[1,1],[6,4]])\n",
        "x = np.array([[2],[5]])\n",
        "b = np.dot(A, x)\n",
        "plot_vect(x,b,(0,8),(0,40))"
      ],
      "metadata": {
        "colab": {
          "base_uri": "https://localhost:8080/",
          "height": 415
        },
        "id": "wMkPDR1xYzmR",
        "outputId": "742790f4-e037-443c-d473-a79785d8c0cf"
      },
      "execution_count": 27,
      "outputs": [
        {
          "output_type": "display_data",
          "data": {
            "image/png": "[encoded data removed]",
            "text/plain": [
              "<Figure size 720x432 with 1 Axes>"
            ]
          },
          "metadata": {
            "needs_background": "light"
          }
        }
      ]
    },
    {
      "cell_type": "markdown",
      "source": [
        "We now get the eigenvalues for matrix [[0, 1], [2, -1]]. \n",
        "\n",
        "The characteristic equations gives us -λ(-1-λ) - 2 = λ^2 + λ - 2 = 0\n",
        "\n",
        "Using the quadratic equation, we get λ = -2 of λ = 1"
      ],
      "metadata": {
        "id": "-nJmp6P6cIjo"
      }
    },
    {
      "cell_type": "code",
      "source": [
        "from numpy import linalg as LA\n",
        "a = [[0,1],[2,-1]]\n",
        "print(LA.eigvals(a))"
      ],
      "metadata": {
        "colab": {
          "base_uri": "https://localhost:8080/"
        },
        "id": "hXkWOrSla9rY",
        "outputId": "07b2b0ea-4857-4603-b58a-893e3d6ff6f2"
      },
      "execution_count": 30,
      "outputs": [
        {
          "output_type": "stream",
          "name": "stdout",
          "text": [
            "[ 1. -2.]\n"
          ]
        }
      ]
    },
    {
      "cell_type": "markdown",
      "source": [
        "We now find the eigenvectors for the eqigenvalues.\n",
        "\n",
        "We first substitute λ = -2.\n",
        "\n",
        "We get 2x1 + x2 = 0, indicating x2 = -2x1, so the first eigenvetor x1 = k1[1, -2]\n",
        "\n",
        "We now substitue λ = 1.\n",
        "\n",
        "We get x1 = x2, so x2 = k2[1,1]"
      ],
      "metadata": {
        "id": "YJwtdm3Eg5KP"
      }
    },
    {
      "cell_type": "markdown",
      "source": [
        "We now use the QR function to decompose matrix A=[[1,4],[2,2]]."
      ],
      "metadata": {
        "id": "qaM68SpAiQn3"
      }
    },
    {
      "cell_type": "code",
      "source": [
        "import numpy as np\n",
        "from numpy.linalg import qr\n",
        "a = np.array([[1, 4], \n",
        "              [2, 2]])\n",
        "q, r = qr(a)\n",
        "print('Q:', q)\n",
        "print('R:', r)\n",
        "b = np.dot(q, r)\n",
        "print('QR:', b)"
      ],
      "metadata": {
        "colab": {
          "base_uri": "https://localhost:8080/"
        },
        "id": "hlfMTWv-ibBo",
        "outputId": "5708f6f3-cfe5-47d0-f8e2-611d2e0a6110"
      },
      "execution_count": 32,
      "outputs": [
        {
          "output_type": "stream",
          "name": "stdout",
          "text": [
            "Q: [[-0.4472136  -0.89442719]\n",
            " [-0.89442719  0.4472136 ]]\n",
            "R: [[-2.23606798 -3.57770876]\n",
            " [ 0.         -2.68328157]]\n",
            "QR: [[1. 4.]\n",
            " [2. 2.]]\n"
          ]
        }
      ]
    },
    {
      "cell_type": "markdown",
      "source": [
        "We now use the QR method to get the eigenvalues of the above matrix and print the results of the first, fifth, tenth, and twentieth iterations."
      ],
      "metadata": {
        "id": "2C6DtILlisUi"
      }
    },
    {
      "cell_type": "code",
      "source": [
        "a = np.array([[1, 4], \n",
        "              [2, 2]])\n",
        "p = [1, 5, 10, 20]\n",
        "for i in range(20):\n",
        "    q, r = qr(a)\n",
        "    a = np.dot(r, q)\n",
        "    if i+1 in p:\n",
        "        print(f'Iteration {i+1}:')\n",
        "        print(a)"
      ],
      "metadata": {
        "colab": {
          "base_uri": "https://localhost:8080/"
        },
        "id": "DlC01yYPiuDb",
        "outputId": "e2429691-33c6-417e-f221-882041d7dd0b"
      },
      "execution_count": 33,
      "outputs": [
        {
          "output_type": "stream",
          "name": "stdout",
          "text": [
            "Iteration 1:\n",
            "[[ 4.2  0.4]\n",
            " [ 2.4 -1.2]]\n",
            "Iteration 5:\n",
            "[[ 4.37948327 -1.97906901]\n",
            " [ 0.02093099 -1.37948327]]\n",
            "Iteration 10:\n",
            "[[ 4.37225918e+00  2.00006359e+00]\n",
            " [ 6.35869136e-05 -1.37225918e+00]]\n",
            "Iteration 20:\n",
            "[[ 4.37228132e+00  2.00000000e+00]\n",
            " [ 5.89822916e-10 -1.37228132e+00]]\n"
          ]
        }
      ]
    },
    {
      "cell_type": "markdown",
      "source": [
        "We now consider the artificial data created by x = np.linspace(0, 1, 101) and y = 1 + x + x * np.random.random(len(x)) and do a least squares regression with an estimation function defined by y^=α1x+α2."
      ],
      "metadata": {
        "id": "8Bsun82gjXul"
      }
    },
    {
      "cell_type": "code",
      "source": [
        "import numpy as np\n",
        "from scipy import optimize\n",
        "import matplotlib.pyplot as plt\n",
        "plt.style.use('seaborn-poster')\n",
        "x = np.linspace(0, 1, 101)\n",
        "y = 1 + x + x * np.random.random(len(x))\n",
        "A = np.vstack([x, np.ones(len(x))]).T\n",
        "y = y[:, np.newaxis]\n",
        "alpha = np.dot((np.dot(np.linalg.inv(np.dot(A.T,A)),A.T)),y)\n",
        "print(alpha)\n",
        "plt.figure(figsize = (10,8))\n",
        "plt.plot(x, y, 'b.')\n",
        "plt.plot(x, alpha[0]*x + alpha[1], 'r')\n",
        "plt.xlabel('x')\n",
        "plt.ylabel('y')\n",
        "plt.show()"
      ],
      "metadata": {
        "colab": {
          "base_uri": "https://localhost:8080/",
          "height": 551
        },
        "id": "QJftPIqFixiJ",
        "outputId": "31a9a1d6-42cb-4975-b8bb-9849767a9545"
      },
      "execution_count": 34,
      "outputs": [
        {
          "output_type": "stream",
          "name": "stdout",
          "text": [
            "[[1.5556009 ]\n",
            " [0.97352745]]\n"
          ]
        },
        {
          "output_type": "display_data",
          "data": {
            "image/png": "[encoded data removed]",
            "text/plain": [
              "<Figure size 720x576 with 1 Axes>"
            ]
          },
          "metadata": {
            "needs_background": "light"
          }
        }
      ]
    },
    {
      "cell_type": "markdown",
      "source": [
        "We can also use the psuedoinverse, i.e. ((A^TA)^-1)A^T"
      ],
      "metadata": {
        "id": "4obXWaRokEdS"
      }
    },
    {
      "cell_type": "code",
      "source": [
        "pinv = np.linalg.pinv(A)\n",
        "alpha = pinv.dot(y)\n",
        "print(alpha)"
      ],
      "metadata": {
        "colab": {
          "base_uri": "https://localhost:8080/"
        },
        "id": "cOTT_9gSjiGD",
        "outputId": "a525feb4-8af2-40b7-8014-1b7072bf2b88"
      },
      "execution_count": 35,
      "outputs": [
        {
          "output_type": "stream",
          "name": "stdout",
          "text": [
            "[[1.5556009 ]\n",
            " [0.97352745]]\n"
          ]
        }
      ]
    }
  ]
}