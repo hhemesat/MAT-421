{
  "nbformat": 4,
  "nbformat_minor": 0,
  "metadata": {
    "colab": {
      "name": "ModuleG.ipynb",
      "provenance": [],
      "collapsed_sections": [],
      "authorship_tag": "ABX9TyMU5YhIOsmC/t2HyJDZnSl/",
      "include_colab_link": true
    },
    "kernelspec": {
      "name": "python3",
      "display_name": "Python 3"
    },
    "language_info": {
      "name": "python"
    }
  },
  "cells": [
    {
      "cell_type": "markdown",
      "metadata": {
        "id": "view-in-github",
        "colab_type": "text"
      },
      "source": [
        "<a href=\"https://colab.research.google.com/github/hhemesat/MAT-421/blob/main/ModuleG.ipynb\" target=\"_parent\"><img src=\"https://colab.research.google.com/assets/colab-badge.svg\" alt=\"Open In Colab\"/></a>"
      ]
    },
    {
      "cell_type": "markdown",
      "source": [
        "# Riemann's Integral\n",
        "\n",
        "---\n",
        "\n"
      ],
      "metadata": {
        "id": "uHCzzZDIUO1H"
      }
    },
    {
      "cell_type": "markdown",
      "source": [
        "Let us find the integral of cos(x) from 0 to pi using the right riemann integral, left riemann integral, and midpoint rule with 15 evenly spaced grid points."
      ],
      "metadata": {
        "id": "7X4tLbEGP6ef"
      }
    },
    {
      "cell_type": "markdown",
      "source": [
        " Since the integral of cos(x) is sin(x), and sin(pi) - sin(0) = 0, we will compare the results to the true value of zero."
      ],
      "metadata": {
        "id": "rWpu-JRnU1mu"
      }
    },
    {
      "cell_type": "code",
      "execution_count": 10,
      "metadata": {
        "colab": {
          "base_uri": "https://localhost:8080/"
        },
        "id": "grv0kBheOySa",
        "outputId": "6b542255-731c-45ec-94c9-7772b90dc359"
      },
      "outputs": [
        {
          "output_type": "stream",
          "name": "stdout",
          "text": [
            "0.2243994752564139\n",
            "-0.2243994752564137\n",
            "2.7404681055782107e-16\n"
          ]
        }
      ],
      "source": [
        "import numpy as np\n",
        "a = 0\n",
        "b = np.pi\n",
        "n = 15\n",
        "h = (b - a) / (n - 1)\n",
        "x = np.linspace(a, b, n)\n",
        "f = np.cos(x)\n",
        "I_riemannL = h * sum(f[:n-1])\n",
        "I_riemannR = h * sum(f[1::])\n",
        "I_mid = h * sum(np.cos((x[:n-1] \\\n",
        "                        + x[1:])/2))\n",
        "print(I_riemannL)\n",
        "print(I_riemannR)\n",
        "print(I_mid)"
      ]
    },
    {
      "cell_type": "markdown",
      "source": [
        "The results show that the left and right riemann sum give the same result with opposite signs, and the Midpoint rule gives the most accurate result with an extremely low number."
      ],
      "metadata": {
        "id": "MOxws2paUBFM"
      }
    },
    {
      "cell_type": "markdown",
      "source": [
        "# Trapezoid Rule\n",
        "\n",
        "---\n",
        "\n"
      ],
      "metadata": {
        "id": "wLVig7EYUW6o"
      }
    },
    {
      "cell_type": "markdown",
      "source": [
        "Let us use the trapezoid rule to find the integral of cos(x) from 0 to pi with 15 evenly spaced grid points."
      ],
      "metadata": {
        "id": "4jEtwqeNUePb"
      }
    },
    {
      "cell_type": "code",
      "source": [
        "import numpy as np\n",
        "a = 0\n",
        "b = np.pi\n",
        "n = 15\n",
        "h = (b - a) / (n - 1)\n",
        "x = np.linspace(a, b, n)\n",
        "f = np.cos(x)\n",
        "\n",
        "I_trap = (h/2)*(f[0] + \\\n",
        "          2 * sum(f[1:n-1]) + f[n-1])\n",
        "print(I_trap)"
      ],
      "metadata": {
        "colab": {
          "base_uri": "https://localhost:8080/"
        },
        "id": "_iiE-kLBQV5m",
        "outputId": "fd25bd0a-ff49-460b-f112-be7f5c429451"
      },
      "execution_count": 12,
      "outputs": [
        {
          "output_type": "stream",
          "name": "stdout",
          "text": [
            "7.474003924304211e-17\n"
          ]
        }
      ]
    }
  ]
}